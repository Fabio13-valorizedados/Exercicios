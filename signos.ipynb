{
 "cells": [
  {
   "cell_type": "code",
   "execution_count": 28,
   "id": "0c2185a5",
   "metadata": {},
   "outputs": [
    {
     "data": {
      "text/markdown": [
       "\n",
       "# 📊 Análise de Nascimentos por Mês (2023)\n",
       "\n",
       "fonte de dados IBGE https://sidra.ibge.gov.br/tabela/2612\n",
       "\n",
       "Este gráfico apresenta a distribuição do número total de nascimentos no Brasil em 2023, com base nos dados do IBGE.\n",
       "\n",
       "## 🔍 Detalhes:\n",
       "- **Fonte**: IBGE – Estatísticas do Registro Civil.\n",
       "- **Unidade**: Total de nascidos vivos por mês.\n",
       "- **Ano base**: 2023.\n",
       "\n",
       "## 📌 Observações:\n",
       "- Os dados incluem todos os nascimentos registrados por mês.\n",
       "- A coluna 'Ignorado' foi desconsiderada por ausência de valor.\n",
       "- O gráfico pode ser utilizado para análises sazonais e correlação com signos do zodíaco.\n",
       "\n",
       "---\n"
      ],
      "text/plain": [
       "<IPython.core.display.Markdown object>"
      ]
     },
     "execution_count": 28,
     "metadata": {},
     "output_type": "execute_result"
    }
   ],
   "source": [
    "from IPython.display import Markdown\n",
    "\n",
    "Markdown(\"\"\"\n",
    "# 📊 Análise de Nascimentos por Mês (2023)\n",
    "\n",
    "fonte de dados IBGE https://sidra.ibge.gov.br/tabela/2612\n",
    "\n",
    "Este gráfico apresenta a distribuição do número total de nascimentos no Brasil em 2023, com base nos dados do IBGE.\n",
    "\n",
    "## 🔍 Detalhes:\n",
    "- **Fonte**: IBGE – Estatísticas do Registro Civil.\n",
    "- **Unidade**: Total de nascidos vivos por mês.\n",
    "- **Ano base**: 2023.\n",
    "\n",
    "## 📌 Observações:\n",
    "- Os dados incluem todos os nascimentos registrados por mês.\n",
    "- A coluna 'Ignorado' foi desconsiderada por ausência de valor.\n",
    "- O gráfico pode ser utilizado para análises sazonais e correlação com signos do zodíaco.\n",
    "\n",
    "---\n",
    "\"\"\")\n",
    "\n",
    "#"
   ]
  },
  {
   "cell_type": "code",
   "execution_count": 2,
   "id": "33941e0f",
   "metadata": {},
   "outputs": [],
   "source": [
    "import pandas as pd \n"
   ]
  },
  {
   "cell_type": "code",
   "execution_count": null,
   "id": "5d661ede",
   "metadata": {},
   "outputs": [],
   "source": [
    "import pandas as pd\n",
    "\n",
    "df = pd.read_excel(\n",
    "    r'C:\\Users\\User\\OneDrive - DATI - Soluções em TI\\Documentos\\Analise de Dados\\Signos_exercicios\\tabela2612.xlsx',\n",
    "    #    skiprows=4  # Ajuste esse número se os dados começarem depois\n",
    ")\n",
    "\n",
    "# Exibir as linhas relevantes (linha 3 e linha 6 — índice 3 e 6)\n",
    "linha_meses = df.iloc[3]\n",
    "linha_valores = df.iloc[6]\n"
   ]
  },
  {
   "cell_type": "code",
   "execution_count": 5,
   "id": "23e6072f",
   "metadata": {},
   "outputs": [],
   "source": [
    "# Ajustar o índice de onde começam os meses (coluna 4 = index 4)\n",
    "meses = linha_meses[4:]\n",
    "valores = linha_valores[4:]\n"
   ]
  },
  {
   "cell_type": "code",
   "execution_count": 6,
   "id": "3b7f9d70",
   "metadata": {},
   "outputs": [],
   "source": [
    "# Criar o DataFrame final\n",
    "df_mes_nascimentos = pd.DataFrame({\n",
    "    'mes': meses.values,\n",
    "    'total_nascimentos': valores.values\n",
    "})\n",
    "\n",
    "# Converter os valores para inteiros (remover texto, se necessário)\n",
    "df_mes_nascimentos['total_nascimentos'] = pd.to_numeric(df_mes_nascimentos['total_nascimentos'], errors='coerce')\n"
   ]
  },
  {
   "cell_type": "code",
   "execution_count": 7,
   "id": "f06a843d",
   "metadata": {},
   "outputs": [
    {
     "data": {
      "application/vnd.microsoft.datawrangler.viewer.v0+json": {
       "columns": [
        {
         "name": "index",
         "rawType": "int64",
         "type": "integer"
        },
        {
         "name": "mes",
         "rawType": "object",
         "type": "string"
        },
        {
         "name": "total_nascimentos",
         "rawType": "float64",
         "type": "float"
        }
       ],
       "ref": "c69a8daa-efc4-4409-acfd-f4411ef1b014",
       "rows": [
        [
         "0",
         "Janeiro",
         "221560.0"
        ],
        [
         "1",
         "Fevereiro",
         "203088.0"
        ],
        [
         "2",
         "Março",
         "233432.0"
        ],
        [
         "3",
         "Abril",
         "218047.0"
        ],
        [
         "4",
         "Maio",
         "230394.0"
        ],
        [
         "5",
         "Junho",
         "216496.0"
        ],
        [
         "6",
         "Julho",
         "210353.0"
        ],
        [
         "7",
         "Agosto",
         "208245.0"
        ],
        [
         "8",
         "Setembro",
         "202903.0"
        ],
        [
         "9",
         "Outubro",
         "198886.0"
        ],
        [
         "10",
         "Novembro",
         "188411.0"
        ],
        [
         "11",
         "Dezembro",
         "191452.0"
        ],
        [
         "12",
         "Ignorado",
         null
        ]
       ],
       "shape": {
        "columns": 2,
        "rows": 13
       }
      },
      "text/html": [
       "<div>\n",
       "<style scoped>\n",
       "    .dataframe tbody tr th:only-of-type {\n",
       "        vertical-align: middle;\n",
       "    }\n",
       "\n",
       "    .dataframe tbody tr th {\n",
       "        vertical-align: top;\n",
       "    }\n",
       "\n",
       "    .dataframe thead th {\n",
       "        text-align: right;\n",
       "    }\n",
       "</style>\n",
       "<table border=\"1\" class=\"dataframe\">\n",
       "  <thead>\n",
       "    <tr style=\"text-align: right;\">\n",
       "      <th></th>\n",
       "      <th>mes</th>\n",
       "      <th>total_nascimentos</th>\n",
       "    </tr>\n",
       "  </thead>\n",
       "  <tbody>\n",
       "    <tr>\n",
       "      <th>0</th>\n",
       "      <td>Janeiro</td>\n",
       "      <td>221560.0</td>\n",
       "    </tr>\n",
       "    <tr>\n",
       "      <th>1</th>\n",
       "      <td>Fevereiro</td>\n",
       "      <td>203088.0</td>\n",
       "    </tr>\n",
       "    <tr>\n",
       "      <th>2</th>\n",
       "      <td>Março</td>\n",
       "      <td>233432.0</td>\n",
       "    </tr>\n",
       "    <tr>\n",
       "      <th>3</th>\n",
       "      <td>Abril</td>\n",
       "      <td>218047.0</td>\n",
       "    </tr>\n",
       "    <tr>\n",
       "      <th>4</th>\n",
       "      <td>Maio</td>\n",
       "      <td>230394.0</td>\n",
       "    </tr>\n",
       "    <tr>\n",
       "      <th>5</th>\n",
       "      <td>Junho</td>\n",
       "      <td>216496.0</td>\n",
       "    </tr>\n",
       "    <tr>\n",
       "      <th>6</th>\n",
       "      <td>Julho</td>\n",
       "      <td>210353.0</td>\n",
       "    </tr>\n",
       "    <tr>\n",
       "      <th>7</th>\n",
       "      <td>Agosto</td>\n",
       "      <td>208245.0</td>\n",
       "    </tr>\n",
       "    <tr>\n",
       "      <th>8</th>\n",
       "      <td>Setembro</td>\n",
       "      <td>202903.0</td>\n",
       "    </tr>\n",
       "    <tr>\n",
       "      <th>9</th>\n",
       "      <td>Outubro</td>\n",
       "      <td>198886.0</td>\n",
       "    </tr>\n",
       "    <tr>\n",
       "      <th>10</th>\n",
       "      <td>Novembro</td>\n",
       "      <td>188411.0</td>\n",
       "    </tr>\n",
       "    <tr>\n",
       "      <th>11</th>\n",
       "      <td>Dezembro</td>\n",
       "      <td>191452.0</td>\n",
       "    </tr>\n",
       "    <tr>\n",
       "      <th>12</th>\n",
       "      <td>Ignorado</td>\n",
       "      <td>NaN</td>\n",
       "    </tr>\n",
       "  </tbody>\n",
       "</table>\n",
       "</div>"
      ],
      "text/plain": [
       "          mes  total_nascimentos\n",
       "0     Janeiro           221560.0\n",
       "1   Fevereiro           203088.0\n",
       "2       Março           233432.0\n",
       "3       Abril           218047.0\n",
       "4        Maio           230394.0\n",
       "5       Junho           216496.0\n",
       "6       Julho           210353.0\n",
       "7      Agosto           208245.0\n",
       "8    Setembro           202903.0\n",
       "9     Outubro           198886.0\n",
       "10   Novembro           188411.0\n",
       "11   Dezembro           191452.0\n",
       "12   Ignorado                NaN"
      ]
     },
     "execution_count": 7,
     "metadata": {},
     "output_type": "execute_result"
    }
   ],
   "source": [
    "df_mes_nascimentos"
   ]
  },
  {
   "cell_type": "code",
   "execution_count": 8,
   "id": "e93b8da4",
   "metadata": {},
   "outputs": [
    {
     "name": "stdout",
     "output_type": "stream",
     "text": [
      "          mes  total_nascimentos        signo  percentual\n",
      "0     Janeiro           221560.0  Capricórnio        8.79\n",
      "1   Fevereiro           203088.0      Aquário        8.06\n",
      "2       Março           233432.0       Peixes        9.27\n",
      "3       Abril           218047.0        Áries        8.66\n",
      "4        Maio           230394.0        Touro        9.15\n",
      "5       Junho           216496.0       Gêmeos        8.59\n",
      "6       Julho           210353.0       Câncer        8.35\n",
      "7      Agosto           208245.0         Leão        8.27\n",
      "8    Setembro           202903.0       Virgem        8.05\n",
      "9     Outubro           198886.0        Libra        7.89\n",
      "10   Novembro           184411.0    Escorpião        7.32\n",
      "11   Dezembro           191452.0    Sagitário        7.60\n"
     ]
    }
   ],
   "source": [
    "\n",
    "\n",
    "# Seu DataFrame real\n",
    "df_mes_nascimentos = pd.DataFrame({\n",
    "    'mes': ['Janeiro', 'Fevereiro', 'Março', 'Abril', 'Maio', 'Junho',\n",
    "            'Julho', 'Agosto', 'Setembro', 'Outubro', 'Novembro', 'Dezembro', 'Ignorado'],\n",
    "    'total_nascimentos': [221560, 203088, 233432, 218047, 230394, 216496,\n",
    "                          210353, 208245, 202903, 198886, 184411, 191452, None]\n",
    "})\n",
    "\n",
    "# Remover linha com mês \"Ignorado\"\n",
    "df_mes_nascimentos = df_mes_nascimentos[df_mes_nascimentos['mes'] != 'Ignorado']\n",
    "\n",
    "# Mapeamento de signo principal por mês\n",
    "signos_por_mes = {\n",
    "    'Janeiro': 'Capricórnio',\n",
    "    'Fevereiro': 'Aquário',\n",
    "    'Março': 'Peixes',\n",
    "    'Abril': 'Áries',\n",
    "    'Maio': 'Touro',\n",
    "    'Junho': 'Gêmeos',\n",
    "    'Julho': 'Câncer',\n",
    "    'Agosto': 'Leão',\n",
    "    'Setembro': 'Virgem',\n",
    "    'Outubro': 'Libra',\n",
    "    'Novembro': 'Escorpião',\n",
    "    'Dezembro': 'Sagitário'\n",
    "}\n",
    "\n",
    "# Adicionar coluna de signos\n",
    "df_mes_nascimentos['signo'] = df_mes_nascimentos['mes'].map(signos_por_mes)\n",
    "\n",
    "# Calcular percentual\n",
    "total_geral = df_mes_nascimentos['total_nascimentos'].sum()\n",
    "df_mes_nascimentos['percentual'] = (df_mes_nascimentos['total_nascimentos'] / total_geral * 100).round(2)\n",
    "\n",
    "# Exibir resultado\n",
    "print(df_mes_nascimentos)\n"
   ]
  },
  {
   "cell_type": "code",
   "execution_count": 10,
   "id": "f21c9820",
   "metadata": {},
   "outputs": [
    {
     "name": "stderr",
     "output_type": "stream",
     "text": [
      "C:\\Users\\User\\AppData\\Local\\Temp\\ipykernel_22320\\1829642706.py:7: FutureWarning: \n",
      "\n",
      "Passing `palette` without assigning `hue` is deprecated and will be removed in v0.14.0. Assign the `x` variable to `hue` and set `legend=False` for the same effect.\n",
      "\n",
      "  sns.barplot(data=df_mes_nascimentos, x='signo', y='total_nascimentos', palette='Blues_d')\n"
     ]
    },
    {
     "data": {
      "image/png": "[encoded data removed]",
      "text/plain": [
       "<Figure size 1200x600 with 1 Axes>"
      ]
     },
     "metadata": {},
     "output_type": "display_data"
    }
   ],
   "source": [
    "\n",
    "import matplotlib.pyplot as plt\n",
    "import seaborn as sns\n",
    "\n",
    "\n",
    "# Criar gráfico de barras\n",
    "plt.figure(figsize=(12, 6))\n",
    "sns.barplot(data=df_mes_nascimentos, x='signo', y='total_nascimentos', palette='Blues_d')\n",
    "\n",
    "plt.title('Total de Nascimentos por Mês (2023)')\n",
    "plt.xlabel('Signo')\n",
    "plt.ylabel('Total de Nascimentos')\n",
    "plt.xticks(rotation=45)\n",
    "plt.tight_layout()\n",
    "plt.show()\n"
   ]
  }
 ],
 "metadata": {
  "kernelspec": {
   "display_name": "base",
   "language": "python",
   "name": "python3"
  },
  "language_info": {
   "codemirror_mode": {
    "name": "ipython",
    "version": 3
   },
   "file_extension": ".py",
   "mimetype": "text/x-python",
   "name": "python",
   "nbconvert_exporter": "python",
   "pygments_lexer": "ipython3",
   "version": "3.12.7"
  }
 },
 "nbformat": 4,
 "nbformat_minor": 5
}
